{
 "cells": [
  {
   "cell_type": "markdown",
   "metadata": {
    "id": "DE8cX2Y-wfWA"
   },
   "source": [
    "# Import Libraries and set seeds"
   ]
  },
  {
   "cell_type": "code",
   "execution_count": null,
   "metadata": {
    "id": "V7nidurC0l3l"
   },
   "outputs": [],
   "source": [
    "import pandas as pd\n",
    "import numpy as np\n",
    "import seaborn as sns\n",
    "import matplotlib.pyplot as plt\n",
    "import pylab\n",
    "from sklearn.metrics import roc_auc_score, confusion_matrix, classification_report\n",
    "from sklearn.model_selection import train_test_split\n",
    "\n",
    "import json\n",
    "import pickle\n",
    "import random as python_random\n",
    "import os\n",
    "\n",
    "\n",
    "import tensorflow as tf\n",
    "from keras.preprocessing.image import ImageDataGenerator\n",
    "from keras.applications import ResNet50, InceptionResNetV2\n",
    "\n",
    "from keras import models, layers\n",
    "from keras.optimizers import RMSprop, SGD\n",
    "from keras.callbacks import EarlyStopping, ModelCheckpoint\n",
    "\n",
    "from utils import *\n",
    "from analysis_utils import *\n",
    "\n",
    "np.random.seed(123)\n",
    "python_random.seed(123)\n",
    "tf.random.set_seed(1234)"
   ]
  },
  {
   "cell_type": "markdown",
   "metadata": {
    "id": "jDIkn8tC0l3k"
   },
   "source": [
    "# Load Dataset"
   ]
  },
  {
   "cell_type": "code",
   "execution_count": null,
   "metadata": {
    "id": "5lhhGWXq0l3o"
   },
   "outputs": [],
   "source": [
    "df = pd.read_csv('./meta.csv')\n",
    "\n",
    "train_df, test_df = train_test_split(df, test_size=0.2, random_state=0, stratify=df['gender'])\n",
    "train_df, val_df = train_test_split(train_df, test_size=0.3, random_state=0, stratify=train_df['gender'])\n",
    "\n",
    "train_datagen = ImageDataGenerator(rescale=1./255)\n",
    "validation_datagen = ImageDataGenerator(rescale=1./255)\n",
    "test_datagen = ImageDataGenerator(rescale=1./255)"
   ]
  },
  {
   "cell_type": "markdown",
   "metadata": {
    "id": "cgrhIfr90l37"
   },
   "source": [
    "# Functions"
   ]
  },
  {
   "cell_type": "code",
   "execution_count": null,
   "metadata": {
    "id": "d1Cc3ktn0l3-"
   },
   "outputs": [],
   "source": [
    "# Define EarlyStopping callback\n",
    "es = EarlyStopping(monitor='val_loss', mode='min', verbose=1, patience=7, restore_best_weights=True)"
   ]
  },
  {
   "cell_type": "markdown",
   "metadata": {
    "id": "_GCR4HzB0l4I"
   },
   "source": [
    "# Train with base model set-up"
   ]
  },
  {
   "cell_type": "code",
   "execution_count": null,
   "metadata": {
    "id": "JcQ6ANy5yfhk"
   },
   "outputs": [],
   "source": [
    "# Base Model Parameters\n",
    "IMG_SIZE_1 = 224\n",
    "IMG_SIZE_2 = 299\n",
    "BATCH_SIZE = 128\n",
    "EPOCHS = 30\n",
    "LEARNING_RATE = 1e-4\n",
    "NUM_NEURONS = 1024\n",
    "DROPOUT_RATE = 0.5\n",
    "MOMENTUM = 0.9\n",
    "OPTIMISER = 'SGD'\n",
    "\n",
    "# Check for base model results folder (create if doesn't exist)\n",
    "SAVE_PATH = './results/base_models'\n",
    "\n",
    "if not os.path.exists(SAVE_PATH):\n",
    "    os.mkdir(SAVE_PATH)"
   ]
  },
  {
   "cell_type": "code",
   "execution_count": null,
   "metadata": {
    "colab": {
     "base_uri": "https://localhost:8080/"
    },
    "id": "3xFM_FG5EvAr",
    "outputId": "ff54c7b6-9068-4e3a-eb9f-329c4d02afb8"
   },
   "outputs": [],
   "source": [
    "# Prepare data for base models\n",
    "generators_224 = generate_data(train_df, val_df, test_df, IMG_SIZE_1, BATCH_SIZE)\n",
    "generators_299 = generate_data(train_df, val_df, test_df, IMG_SIZE_2, BATCH_SIZE)"
   ]
  },
  {
   "cell_type": "markdown",
   "metadata": {
    "id": "-x9TRwZOyzZU"
   },
   "source": [
    "## ResNet50 Base Model"
   ]
  },
  {
   "cell_type": "markdown",
   "metadata": {
    "id": "TBAKN1EmzILp"
   },
   "source": [
    "### Set Parameters for Base ResNet50"
   ]
  },
  {
   "cell_type": "code",
   "execution_count": null,
   "metadata": {
    "colab": {
     "base_uri": "https://localhost:8080/"
    },
    "id": "vfZzvh3Gy1lk",
    "outputId": "7840ef61-eb81-44fd-a788-182e06a854ef"
   },
   "outputs": [],
   "source": [
    "# Parameters for Base ResNet50\n",
    "TITLE = 'resnet50_base'\n",
    "START_LAYER = 143 # Layer to start unfreezing from"
   ]
  },
  {
   "cell_type": "markdown",
   "metadata": {
    "id": "WxmwcW_fzbSK"
   },
   "source": [
    "### Create Model for Base ResNet50"
   ]
  },
  {
   "cell_type": "code",
   "execution_count": null,
   "metadata": {
    "id": "zaNU4I2a0l4I"
   },
   "outputs": [],
   "source": [
    "# Download ResNet50 weights\n",
    "resnet50_conv = ResNet50(weights='imagenet', include_top=False, input_tensor=None, input_shape=(224,224,3))\n",
    "\n",
    "# freeze all layers except stage 4\n",
    "for layer in resnet50_conv.layers[:START_LAYER]:\n",
    "  layer.trainable = False\n",
    "for layer in resnet50_conv.layers[START_LAYER:]:\n",
    "  layer.trainable = True\n",
    "\n",
    "# Build base model\n",
    "resnet50_base = models.Sequential()\n",
    "resnet50_base.add(resnet50_conv)    \n",
    "resnet50_base.add(layers.Flatten())   \n",
    "resnet50_base.add(layers.Dense(NUM_NEURONS, activation='relu'))\n",
    "resnet50_base.add(layers.Dropout(DROPOUT_RATE))\n",
    "resnet50_base.add(layers.Dense(1, activation='sigmoid'))\n",
    "\n",
    "# Compile base model\n",
    "resnet50_base.compile(loss='binary_crossentropy', \n",
    "                      optimizer=SGD(lr=LEARNING_RATE, momentum=MOMENTUM),\n",
    "                      metrics=['acc'])"
   ]
  },
  {
   "cell_type": "markdown",
   "metadata": {
    "id": "tEQhQvUDz2wx"
   },
   "source": [
    "### Train (Fit) Base ResNet50 & save information"
   ]
  },
  {
   "cell_type": "code",
   "execution_count": null,
   "metadata": {
    "colab": {
     "base_uri": "https://localhost:8080/",
     "height": 913
    },
    "id": "CNF26IczxHPM",
    "outputId": "47da1475-7515-4372-d0c2-8416e4317a62"
   },
   "outputs": [],
   "source": [
    "# Train and save the history of training + params of model\n",
    "resnet50_base_hist = fit(resnet50_base, EPOCHS, TITLE, generators_224, es, SAVE_PATH)"
   ]
  },
  {
   "cell_type": "markdown",
   "metadata": {},
   "source": [
    "## Plot Histories"
   ]
  },
  {
   "cell_type": "code",
   "execution_count": null,
   "metadata": {},
   "outputs": [],
   "source": [
    "# Plot base model histories\n",
    "# Check for base model results folder (create if doesn't exist)\n",
    "SAVE_PATH = './results/base_models/histories_plot'\n",
    "\n",
    "if not os.path.exists(SAVE_PATH):\n",
    "    os.mkdir(SAVE_PATH)\n",
    "\n",
    "base_model_plot(resnet50_base_hist, TITLE, SAVE_PATH)"
   ]
  },
  {
   "cell_type": "markdown",
   "metadata": {
    "id": "vxzME8AD1_b5"
   },
   "source": [
    "## InceptionResNet Base Model"
   ]
  },
  {
   "cell_type": "markdown",
   "metadata": {
    "id": "aCblf8_22Jt4"
   },
   "source": [
    "### Set Parameters for Base InceptionResNet"
   ]
  },
  {
   "cell_type": "code",
   "execution_count": null,
   "metadata": {
    "colab": {
     "base_uri": "https://localhost:8080/"
    },
    "id": "RxnVjIMW2Jt5",
    "outputId": "3eeb8da5-f744-4005-83a7-7245443f91fa"
   },
   "outputs": [],
   "source": [
    "# Parameters for Base InceptionResNet\n",
    "TITLE = 'inc_res_base'\n",
    "START_LAYER = 759\n",
    "LAST_LAYER = 780"
   ]
  },
  {
   "cell_type": "markdown",
   "metadata": {
    "id": "ZyrtXsEH2Jt9"
   },
   "source": [
    "### Create Model for Base InceptionResNet"
   ]
  },
  {
   "cell_type": "code",
   "execution_count": null,
   "metadata": {
    "id": "LNKl__Fc2Jt-"
   },
   "outputs": [],
   "source": [
    "# Download InceptionResNet weights\n",
    "incResV2_conv = InceptionResNetV2(weights='imagenet', include_top=False, input_tensor=None, input_shape=(299,299,3))\n",
    "\n",
    "# freeze all layers except last block\n",
    "for layer in incResV2_conv.layers[:START_LAYER]:\n",
    "  layer.trainable = False\n",
    "for layer in incResV2_conv.layers[START_LAYER:]:\n",
    "  layer.trainable = True\n",
    "\n",
    "# Build base model\n",
    "inc_res_base = models.Sequential()\n",
    "inc_res_base.add(incResV2_conv)             \n",
    "inc_res_base.add(layers.Flatten())          \n",
    "inc_res_base.add(layers.Dense(NUM_NEURONS, activation='relu'))\n",
    "inc_res_base.add(layers.Dropout(DROPOUT_RATE))\n",
    "inc_res_base.add(layers.Dense(1, activation='sigmoid'))\n",
    "\n",
    "# Compile base model\n",
    "inc_res_base.compile(loss='binary_crossentropy', \n",
    "                     optimizer=SGD(lr=LEARNING_RATE, momentum=MOMENTUM),\n",
    "                     metrics=['acc'])"
   ]
  },
  {
   "cell_type": "markdown",
   "metadata": {
    "id": "aDN3Uo9p2JuA"
   },
   "source": [
    "### Train (Fit) Base InceptionResNet & save information"
   ]
  },
  {
   "cell_type": "code",
   "execution_count": null,
   "metadata": {
    "colab": {
     "base_uri": "https://localhost:8080/",
     "height": 393
    },
    "id": "GttipXC32JuA",
    "outputId": "c3b51617-790f-43e1-cc9b-e8887bd9eebc"
   },
   "outputs": [],
   "source": [
    "# Train and save the history of training + params of model\n",
    "inc_res_base_hist = fit(inc_res_base, EPOCHS, TITLE, generators_299, es, SAVE_PATH)"
   ]
  },
  {
   "cell_type": "code",
   "execution_count": null,
   "metadata": {},
   "outputs": [],
   "source": [
    "# Plot base model histories\n",
    "# Check for base model results folder (create if doesn't exist)\n",
    "SAVE_PATH = './results/base_models/histories_plot'\n",
    "\n",
    "if not os.path.exists(SAVE_PATH):\n",
    "    os.mkdir(SAVE_PATH)\n",
    "\n",
    "base_model_plot(inc_res_base_hist, TITLE, SAVE_PATH)"
   ]
  },
  {
   "cell_type": "markdown",
   "metadata": {
    "id": "Qegaawmp4Mod"
   },
   "source": [
    "# InceptionResNet Tuning"
   ]
  },
  {
   "cell_type": "markdown",
   "metadata": {
    "id": "gDPABaas4Rup"
   },
   "source": [
    "## Batch Size\n",
    "### Set Parameters for Batch Sizes"
   ]
  },
  {
   "cell_type": "code",
   "execution_count": null,
   "metadata": {
    "colab": {
     "base_uri": "https://localhost:8080/"
    },
    "id": "EXOI8ydR4gOr",
    "outputId": "e3558f91-68dc-4bf8-959f-deb919ae738a"
   },
   "outputs": [],
   "source": [
    "TITLE = 'inc_res_bs'\n",
    "BATCH_SIZE = [64, 256]\n",
    "EPOCHS = 30\n",
    "LEARNING_RATE = 1e-4\n",
    "NUM_NEURONS = 1024\n",
    "DROPOUT_RATE = 0.5\n",
    "MOMENTUM = 0.9\n",
    "OPTIMISER = 'SGD'\n",
    "START_LAYER = 759\n",
    "LAST_LAYER = 780\n",
    "\n",
    "# Check for batch size model results folder (create if doesn't exist)\n",
    "SAVE_PATH = './results/bs_models'\n",
    "\n",
    "if not os.path.exists(SAVE_PATH):\n",
    "    os.mkdir(SAVE_PATH)\n",
    "\n",
    "bs_generators = {}\n",
    "# Prepare data for base model\n",
    "for bs in BATCH_SIZE:\n",
    "    bs_generators[bs] = generate_data(train_df, val_df, test_df, IMG_SIZE_2, bs)"
   ]
  },
  {
   "cell_type": "markdown",
   "metadata": {
    "id": "W-oIvqb44Moo"
   },
   "source": [
    "### Create Model for Batch Sizes"
   ]
  },
  {
   "cell_type": "code",
   "execution_count": null,
   "metadata": {
    "colab": {
     "base_uri": "https://localhost:8080/"
    },
    "id": "Lzp8F0AP4Moo",
    "outputId": "b3fbcabd-9cf4-4464-87ee-e09533fbc79c"
   },
   "outputs": [],
   "source": [
    "bs_inc_res_models = []\n",
    "for bs in BATCH_SIZE:\n",
    "    # Download InceptionResNet weights\n",
    "    incResV2_conv = InceptionResNetV2(weights='imagenet', include_top=False, \n",
    "                                      input_tensor=None, input_shape=(299,299,3))\n",
    "    \n",
    "    # freeze all layers except last block\n",
    "    for layer in incResV2_conv.layers[:START_LAYER]:\n",
    "        layer.trainable = False\n",
    "    for layer in incResV2_conv.layers[START_LAYER:]:\n",
    "        layer.trainable = True\n",
    "    \n",
    "    # Build model\n",
    "    model = models.Sequential()\n",
    "    model.add(incResV2_conv)            \n",
    "    model.add(layers.Flatten())          \n",
    "    model.add(layers.Dense(NUM_NEURONS, activation='relu'))\n",
    "    model.add(layers.Dropout(DROPOUT_RATE))\n",
    "    model.add(layers.Dense(1, activation='sigmoid'))\n",
    "    \n",
    "    # append model to list\n",
    "    bs_inc_res_models.append(model)"
   ]
  },
  {
   "cell_type": "markdown",
   "metadata": {
    "id": "zfEecJtI4Mor"
   },
   "source": [
    "### Train (Fit) Batch Sizes Model & save information"
   ]
  },
  {
   "cell_type": "code",
   "execution_count": null,
   "metadata": {
    "colab": {
     "base_uri": "https://localhost:8080/",
     "height": 1000
    },
    "id": "X6Rrudkn4Mor",
    "outputId": "dd2b2a8a-d2eb-490a-d3a9-3f97ee3f036a"
   },
   "outputs": [],
   "source": [
    "# Train and save the history of training + params of model\n",
    "bs_history = {}\n",
    "\n",
    "for model, bs, gen in zip(bs_inc_res_models, BATCH_SIZE, bs_generators):\n",
    "    model.compile(loss='binary_crossentropy', \n",
    "                  optimizer=SGD(lr=LEARNING_RATE, momentum=MOMENTUM),\n",
    "                  metrics=['acc'])\n",
    "    \n",
    "    title = '{}_{}'.format(TITLE, bs)\n",
    "    print('Running {}'.format(title))\n",
    "    bs_history[title] = fit(model, EPOCHS, title, bs_generators[gen], es, SAVE_PATH)"
   ]
  },
  {
   "cell_type": "markdown",
   "metadata": {
    "id": "Jf1bXzlQ6rEg"
   },
   "source": [
    "## Dropout"
   ]
  },
  {
   "cell_type": "markdown",
   "metadata": {
    "id": "RhNR7efu6rEm"
   },
   "source": [
    "### Set Parameters for Dropouts"
   ]
  },
  {
   "cell_type": "code",
   "execution_count": null,
   "metadata": {
    "id": "VWJTQjGd6rEn"
   },
   "outputs": [],
   "source": [
    "TITLE = 'inc_res_dropout'\n",
    "BATCH_SIZE = 128\n",
    "EPOCHS = 30\n",
    "LEARNING_RATE = 1e-4\n",
    "NUM_NEURONS = 1024\n",
    "DROPOUT_RATE = [0, 0.2]\n",
    "MOMENTUM = 0.9\n",
    "OPTIMISER = 'SGD'\n",
    "START_LAYER = 759\n",
    "LAST_LAYER = 780\n",
    "\n",
    "# Check for dropout model results folder (create if doesn't exist)\n",
    "SAVE_PATH = './results/dropout_models'\n",
    "\n",
    "if not os.path.exists(SAVE_PATH):\n",
    "    os.mkdir(SAVE_PATH)"
   ]
  },
  {
   "cell_type": "markdown",
   "metadata": {
    "id": "zK0ub21e6rEr"
   },
   "source": [
    "### Create Model for Dropouts"
   ]
  },
  {
   "cell_type": "code",
   "execution_count": null,
   "metadata": {
    "id": "dKEiS8fX6rEs"
   },
   "outputs": [],
   "source": [
    "dropout_inc_res_models = []\n",
    "for dropout in DROPOUT_RATE:\n",
    "    # Download InceptionResNet weights\n",
    "    incResV2_conv = InceptionResNetV2(weights='imagenet', include_top=False, \n",
    "                                      input_tensor=None, input_shape=(299,299,3))\n",
    "    \n",
    "    # freeze all layers except last block\n",
    "    for layer in incResV2_conv.layers[:START_LAYER]:\n",
    "        layer.trainable = False\n",
    "    for layer in incResV2_conv.layers[START_LAYER:]:\n",
    "        layer.trainable = True\n",
    "    \n",
    "    # Build model\n",
    "    model = models.Sequential()\n",
    "    model.add(incResV2_conv)\n",
    "    model.add(layers.Flatten())\n",
    "    model.add(layers.Dense(NUM_NEURONS, activation='relu'))\n",
    "    model.add(layers.Dropout(dropout))\n",
    "    model.add(layers.Dense(1, activation='sigmoid'))\n",
    "    \n",
    "    # append model to list\n",
    "    dropout_inc_res_models.append(model)"
   ]
  },
  {
   "cell_type": "markdown",
   "metadata": {
    "id": "IPiCje8j6rEu"
   },
   "source": [
    "### Train (Fit) Dropout Model & save information"
   ]
  },
  {
   "cell_type": "code",
   "execution_count": null,
   "metadata": {
    "colab": {
     "base_uri": "https://localhost:8080/"
    },
    "id": "Z3gvc-c16rEu",
    "outputId": "10988089-9118-4e8e-f3af-908614f08b4d"
   },
   "outputs": [],
   "source": [
    "# Train and save the history of training + params of model\n",
    "dropout_history = {}\n",
    "\n",
    "for model, dropout in zip(dropout_inc_res_models, DROPOUT_RATE):\n",
    "    model.compile(loss='binary_crossentropy', \n",
    "                  optimizer=SGD(lr=LEARNING_RATE, momentum=MOMENTUM),\n",
    "                  metrics=['acc'])\n",
    "    \n",
    "    title = '{}_{}'.format(TITLE, dropout)\n",
    "    print('Running {}'.format(title))\n",
    "    dropout_history[dropout] = fit(model, EPOCHS, title, generators_299, es, SAVE_PATH)"
   ]
  },
  {
   "cell_type": "markdown",
   "metadata": {
    "id": "B42QTJlX74j4"
   },
   "source": [
    "## Learning Rate"
   ]
  },
  {
   "cell_type": "markdown",
   "metadata": {
    "id": "j7T6I0Bz74j9"
   },
   "source": [
    "### Set Parameters for Learning Rate"
   ]
  },
  {
   "cell_type": "code",
   "execution_count": null,
   "metadata": {
    "id": "91Xf0g0L74j-"
   },
   "outputs": [],
   "source": [
    "TITLE = 'inc_res_lr'\n",
    "BATCH_SIZE = 128\n",
    "EPOCHS = 30\n",
    "LEARNING_RATE = [1e-2, 1e-3]\n",
    "NUM_NEURONS = 1024\n",
    "DROPOUT_RATE = 0.5\n",
    "MOMENTUM = 0.9\n",
    "OPTIMISER = 'SGD'\n",
    "START_LAYER = 759\n",
    "LAST_LAYER = 780\n",
    "\n",
    "SAVE_PATH = './results/lr_models'\n",
    "\n",
    "if not os.path.exists(SAVE_PATH):\n",
    "    os.mkdir(SAVE_PATH)"
   ]
  },
  {
   "cell_type": "markdown",
   "metadata": {
    "id": "n7h_hBhu74kC"
   },
   "source": [
    "### Create Model for Dropouts"
   ]
  },
  {
   "cell_type": "code",
   "execution_count": null,
   "metadata": {
    "id": "biVZcnuO74kD"
   },
   "outputs": [],
   "source": [
    "lr_inc_res_models = []\n",
    "for lr in LEARNING_RATE:\n",
    "    # Download InceptionResNet weights\n",
    "    incResV2_conv = InceptionResNetV2(weights='imagenet', include_top=False, input_tensor=None, input_shape=(299,299,3))\n",
    "    \n",
    "    # freeze all layers except last block\n",
    "    for layer in incResV2_conv.layers[:START_LAYER]:\n",
    "        layer.trainable = False\n",
    "    for layer in incResV2_conv.layers[START_LAYER:]:\n",
    "        layer.trainable = True\n",
    "        \n",
    "    # Build model\n",
    "    model = models.Sequential()\n",
    "    model.add(incResV2_conv)\n",
    "    model.add(layers.Flatten())\n",
    "    model.add(layers.Dense(NUM_NEURONS, activation='relu'))\n",
    "    model.add(layers.Dropout(DROPOUT_RATE))\n",
    "    model.add(layers.Dense(1, activation='sigmoid'))\n",
    "    \n",
    "    # append model to list\n",
    "    lr_inc_res_models.append(model)"
   ]
  },
  {
   "cell_type": "markdown",
   "metadata": {
    "id": "xZRB8ePY74kF"
   },
   "source": [
    "### Train (Fit) Dropout Model & save information"
   ]
  },
  {
   "cell_type": "code",
   "execution_count": null,
   "metadata": {
    "colab": {
     "base_uri": "https://localhost:8080/"
    },
    "id": "wapd2NXO74kG",
    "outputId": "10988089-9118-4e8e-f3af-908614f08b4d"
   },
   "outputs": [],
   "source": [
    "# Train and save the history of training + params of model\n",
    "lr_history = {}\n",
    "\n",
    "for model, lr in zip(lr_inc_res_models, LEARNING_RATE):\n",
    "    model.compile(loss='binary_crossentropy', \n",
    "                  optimizer=SGD(lr=lr, momentum=MOMENTUM),\n",
    "                  metrics=['acc'])\n",
    "    \n",
    "    title = '{}_{}'.format(TITLE, lr)\n",
    "    print('Running {}'.format(title))\n",
    "    lr_history[lr] = fit(model, EPOCHS, title, generators_299, es, SAVE_PATH)"
   ]
  },
  {
   "cell_type": "markdown",
   "metadata": {
    "id": "Om7jtNud89UU"
   },
   "source": [
    "## Stacked"
   ]
  },
  {
   "cell_type": "markdown",
   "metadata": {
    "id": "rCWV1sZr89Ua"
   },
   "source": [
    "### Set Parameters for Stacked"
   ]
  },
  {
   "cell_type": "code",
   "execution_count": null,
   "metadata": {
    "id": "uYnkzu2w89Ua"
   },
   "outputs": [],
   "source": [
    "TITLE = 'inc_res_stacked'\n",
    "BATCH_SIZE = 128\n",
    "EPOCHS = 30\n",
    "LEARNING_RATE = 1e-4\n",
    "NUM_NEURONS = 1024\n",
    "DROPOUT_RATE = 0.5\n",
    "MOMENTUM = 0.9\n",
    "OPTIMISER = 'SGD'\n",
    "START_LAYER = 759\n",
    "LAST_LAYER = 780\n",
    "\n",
    "SAVE_PATH = './results/stacked_models'\n",
    "if not os.path.exists(SAVE_PATH):\n",
    "    os.mkdir(SAVE_PATH)"
   ]
  },
  {
   "cell_type": "markdown",
   "metadata": {
    "id": "S_2cj8mq89Ue"
   },
   "source": [
    "### Create Model for Stacked"
   ]
  },
  {
   "cell_type": "code",
   "execution_count": null,
   "metadata": {
    "id": "uIflRqWQ89Uf"
   },
   "outputs": [],
   "source": [
    "# Download InceptionResNet weights\n",
    "incResV2_conv = InceptionResNetV2(weights='imagenet', include_top=False, input_tensor=None, input_shape=(299,299,3))\n",
    "\n",
    "# freeze all layers except last block\n",
    "for layer in incResV2_conv.layers[:START_LAYER]:\n",
    "    layer.trainable = False\n",
    "for layer in incResV2_conv.layers[START_LAYER:]:\n",
    "    layer.trainable = True\n",
    "\n",
    "# Build model\n",
    "stacked_model = models.Sequential()\n",
    "stacked_model.add(incResV2_conv)\n",
    "stacked_model.add(layers.Flatten())\n",
    "stacked_model.add(layers.Dense(NUM_NEURONS, activation='relu'))\n",
    "stacked_model.add(layers.Dropout(DROPOUT_RATE))\n",
    "stacked_model.add(layers.Dense(NUM_NEURONS, activation='relu'))\n",
    "stacked_model.add(layers.Dropout(DROPOUT_RATE))\n",
    "stacked_model.add(layers.Dense(1, activation='sigmoid'))"
   ]
  },
  {
   "cell_type": "markdown",
   "metadata": {
    "id": "JfofnOl489Uh"
   },
   "source": [
    "### Train (Fit) Stacked Model & save information"
   ]
  },
  {
   "cell_type": "code",
   "execution_count": null,
   "metadata": {
    "colab": {
     "base_uri": "https://localhost:8080/"
    },
    "id": "9mmkgqLk89Ui",
    "outputId": "10988089-9118-4e8e-f3af-908614f08b4d"
   },
   "outputs": [],
   "source": [
    "# Train and save the history of training + params of model\n",
    "stacked_model.compile(loss='binary_crossentropy', \n",
    "                      optimizer=SGD(lr=LEARNING_RATE, momentum=MOMENTUM),\n",
    "                      metrics=['acc'])\n",
    "\n",
    "stacked_history = fit(stacked_model, EPOCHS, TITLE, generators_299, es, SAVE_PATH)"
   ]
  },
  {
   "cell_type": "markdown",
   "metadata": {
    "id": "VVq7xc3SgmZ6"
   },
   "source": [
    "# Load Back Results"
   ]
  },
  {
   "cell_type": "code",
   "execution_count": null,
   "metadata": {
    "id": "DwOId1PNgl31"
   },
   "outputs": [],
   "source": [
    "all_hist = {}\n",
    "# Load back history for batch_size\n",
    "BATCH_SIZES = [64,128,256]\n",
    "for bs in BATCH_SIZES:\n",
    "  title = 'bs_inc_res_{}'.format(bs)\n",
    "  filename = './drive/MyDrive/nn_project/inception_resnet/bs_inc_res/bs_hist/{}_hist'.format(title)\n",
    "  all_hist[title] = pickle.load(open(filename, \"rb\"))\n",
    "\n",
    "LEARNING_RATES = [1e-2, 1e-3]\n",
    "for lr in LEARNING_RATES:\n",
    "  title = 'lr_inc_res_{}'.format(lr)\n",
    "  filename = './drive/MyDrive/nn_project/inception_resnet/lr_inc_res/lr_hist/{}_hist'.format(title)\n",
    "  all_hist[title] = pickle.load(open(filename, \"rb\"))\n",
    "\n",
    "DROPOUT_RATES = [0, 0.2]\n",
    "for dr in DROPOUT_RATES:\n",
    "  title = 'dropout_inc_res_{}'.format(dr)\n",
    "  filename = './drive/MyDrive/nn_project/inception_resnet/dropout_inc_res/dropout_hist/{}_hist'.format(title)\n",
    "  all_hist[title] = pickle.load(open(filename, \"rb\"))\n",
    "\n",
    "title = 'stacked_inc_res'\n",
    "filename = './drive/MyDrive/nn_project/inception_resnet/stacked_inc_res/{}_hist'.format(title)\n",
    "all_hist[title] = pickle.load(open(filename, \"rb\"))"
   ]
  },
  {
   "cell_type": "code",
   "execution_count": null,
   "metadata": {
    "colab": {
     "base_uri": "https://localhost:8080/"
    },
    "id": "KQ4FElTaiXnM",
    "outputId": "47bf1b53-9cc8-4070-e01d-da68dcf200ec"
   },
   "outputs": [],
   "source": [
    "# Plot Max Validation Accuracies\n",
    "print('Max Validation Accuracies')\n",
    "max_acc = {}\n",
    "max_model = {'name': None, 'val_acc': 0}\n",
    "for model in all_hist.keys():\n",
    "  max = np.max(all_hist[model]['val_acc'])\n",
    "  epoch = np.argmax(all_hist[model]['val_acc']) + 1\n",
    "  last_epoch = len(all_hist[model]['val_acc'])\n",
    "  print('{:<20}: {} at epoch {:<2} where last epoch is {}'.format(model, max, epoch, last_epoch))\n",
    "  if max > max_model['val_acc']:\n",
    "    max_model['val_acc'] = max\n",
    "    max_model['name'] = model\n",
    "  max_acc[model] = max\n",
    "\n",
    "print()\n",
    "print('The best model is {} with val_acc of {}'.format(max_model['name'], max_model['val_acc']))"
   ]
  },
  {
   "cell_type": "code",
   "execution_count": null,
   "metadata": {
    "id": "lBC5x-1rgoDp"
   },
   "outputs": [],
   "source": [
    "filename = './drive/MyDrive/nn_project/inception_resnet/bs_inc_res/bs_256/bs_inc_res_256_mc.h5'\n",
    "bs_256_model = models.load_model(filename)"
   ]
  },
  {
   "cell_type": "code",
   "execution_count": null,
   "metadata": {
    "id": "W0UPI-os2yql"
   },
   "outputs": [],
   "source": []
  }
 ],
 "metadata": {
  "accelerator": "GPU",
  "colab": {
   "collapsed_sections": [
    "jDIkn8tC0l3k",
    "cgrhIfr90l37",
    "_GCR4HzB0l4I",
    "B42QTJlX74j4"
   ],
   "name": "wanqi_resnet50_inceptionresnet.ipynb",
   "provenance": [],
   "toc_visible": true
  },
  "kernelspec": {
   "display_name": "Python 3",
   "language": "python",
   "name": "python3"
  },
  "language_info": {
   "codemirror_mode": {
    "name": "ipython",
    "version": 3
   },
   "file_extension": ".py",
   "mimetype": "text/x-python",
   "name": "python",
   "nbconvert_exporter": "python",
   "pygments_lexer": "ipython3",
   "version": "3.8.3"
  }
 },
 "nbformat": 4,
 "nbformat_minor": 1
}
